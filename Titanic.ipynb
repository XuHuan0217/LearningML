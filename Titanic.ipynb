{
 "cells": [
  {
   "cell_type": "code",
   "execution_count": 1,
   "metadata": {
    "collapsed": true
   },
   "outputs": [],
   "source": [
    "%matplotlib inline\n",
    "import numpy as np\n",
    "import pandas as pd\n",
    "import re"
   ]
  },
  {
   "cell_type": "markdown",
   "metadata": {},
   "source": [
    "### Read csv files as a DataFrame"
   ]
  },
  {
   "cell_type": "code",
   "execution_count": 2,
   "metadata": {
    "collapsed": false
   },
   "outputs": [
    {
     "data": {
      "text/html": [
       "<div>\n",
       "<table border=\"1\" class=\"dataframe\">\n",
       "  <thead>\n",
       "    <tr style=\"text-align: right;\">\n",
       "      <th></th>\n",
       "      <th>PassengerId</th>\n",
       "      <th>Survived</th>\n",
       "      <th>Pclass</th>\n",
       "      <th>Name</th>\n",
       "      <th>Sex</th>\n",
       "      <th>Age</th>\n",
       "      <th>SibSp</th>\n",
       "      <th>Parch</th>\n",
       "      <th>Ticket</th>\n",
       "      <th>Fare</th>\n",
       "      <th>Cabin</th>\n",
       "      <th>Embarked</th>\n",
       "    </tr>\n",
       "  </thead>\n",
       "  <tbody>\n",
       "    <tr>\n",
       "      <th>0</th>\n",
       "      <td>1</td>\n",
       "      <td>0</td>\n",
       "      <td>3</td>\n",
       "      <td>Braund, Mr. Owen Harris</td>\n",
       "      <td>male</td>\n",
       "      <td>22.0</td>\n",
       "      <td>1</td>\n",
       "      <td>0</td>\n",
       "      <td>A/5 21171</td>\n",
       "      <td>7.25</td>\n",
       "      <td>NaN</td>\n",
       "      <td>S</td>\n",
       "    </tr>\n",
       "  </tbody>\n",
       "</table>\n",
       "</div>"
      ],
      "text/plain": [
       "   PassengerId  Survived  Pclass                     Name   Sex   Age  SibSp  \\\n",
       "0            1         0       3  Braund, Mr. Owen Harris  male  22.0      1   \n",
       "\n",
       "   Parch     Ticket  Fare Cabin Embarked  \n",
       "0      0  A/5 21171  7.25   NaN        S  "
      ]
     },
     "execution_count": 2,
     "metadata": {},
     "output_type": "execute_result"
    }
   ],
   "source": [
    "train_df = pd.read_csv(\"train.csv\")\n",
    "test_df    = pd.read_csv(\"test.csv\")\n",
    "train_df.head(1)"
   ]
  },
  {
   "cell_type": "code",
   "execution_count": 3,
   "metadata": {
    "collapsed": false
   },
   "outputs": [
    {
     "name": "stdout",
     "output_type": "stream",
     "text": [
      "<class 'pandas.core.frame.DataFrame'>\n",
      "RangeIndex: 891 entries, 0 to 890\n",
      "Data columns (total 12 columns):\n",
      "PassengerId    891 non-null int64\n",
      "Survived       891 non-null int64\n",
      "Pclass         891 non-null int64\n",
      "Name           891 non-null object\n",
      "Sex            891 non-null object\n",
      "Age            714 non-null float64\n",
      "SibSp          891 non-null int64\n",
      "Parch          891 non-null int64\n",
      "Ticket         891 non-null object\n",
      "Fare           891 non-null float64\n",
      "Cabin          204 non-null object\n",
      "Embarked       889 non-null object\n",
      "dtypes: float64(2), int64(5), object(5)\n",
      "memory usage: 83.6+ KB\n",
      "<class 'pandas.core.frame.DataFrame'>\n",
      "RangeIndex: 418 entries, 0 to 417\n",
      "Data columns (total 11 columns):\n",
      "PassengerId    418 non-null int64\n",
      "Pclass         418 non-null int64\n",
      "Name           418 non-null object\n",
      "Sex            418 non-null object\n",
      "Age            332 non-null float64\n",
      "SibSp          418 non-null int64\n",
      "Parch          418 non-null int64\n",
      "Ticket         418 non-null object\n",
      "Fare           417 non-null float64\n",
      "Cabin          91 non-null object\n",
      "Embarked       418 non-null object\n",
      "dtypes: float64(2), int64(4), object(5)\n",
      "memory usage: 36.0+ KB\n"
     ]
    }
   ],
   "source": [
    "train_df.info()\n",
    "test_df.info()"
   ]
  },
  {
   "cell_type": "markdown",
   "metadata": {},
   "source": [
    "###  Titanic Feature Engineering"
   ]
  },
  {
   "cell_type": "code",
   "execution_count": 198,
   "metadata": {
    "collapsed": false
   },
   "outputs": [
    {
     "name": "stdout",
     "output_type": "stream",
     "text": [
      "Survived    0.383838\n",
      "dtype: float64\n"
     ]
    }
   ],
   "source": [
    "print train_df[['Survived']].mean()"
   ]
  },
  {
   "cell_type": "code",
   "execution_count": 4,
   "metadata": {
    "collapsed": false,
    "scrolled": true
   },
   "outputs": [
    {
     "name": "stdout",
     "output_type": "stream",
     "text": [
      "        Survived      \n",
      "            mean count\n",
      "Pclass                \n",
      "1       0.629630   216\n",
      "2       0.472826   184\n",
      "3       0.242363   491\n"
     ]
    }
   ],
   "source": [
    "print train_df[['Pclass', 'Survived']].groupby(['Pclass'], as_index=False).agg(['mean', 'count'])"
   ]
  },
  {
   "cell_type": "code",
   "execution_count": 5,
   "metadata": {
    "collapsed": false,
    "scrolled": false
   },
   "outputs": [
    {
     "name": "stdout",
     "output_type": "stream",
     "text": [
      "        Survived      \n",
      "            mean count\n",
      "Sex                   \n",
      "female  0.742038   314\n",
      "male    0.188908   577\n"
     ]
    }
   ],
   "source": [
    "print train_df[[\"Sex\", \"Survived\"]].groupby(['Sex'], as_index=False).agg(['mean', 'count'])"
   ]
  },
  {
   "cell_type": "code",
   "execution_count": 6,
   "metadata": {
    "collapsed": false,
    "scrolled": false
   },
   "outputs": [
    {
     "name": "stdout",
     "output_type": "stream",
     "text": [
      "        Survived      \n",
      "            mean count\n",
      "Family                \n",
      "0       0.303538   537\n",
      "1       0.552795   161\n",
      "2       0.578431   102\n",
      "3       0.724138    29\n",
      "4       0.200000    15\n",
      "5       0.136364    22\n",
      "6       0.333333    12\n",
      "7       0.000000     6\n",
      "10      0.000000     7\n"
     ]
    }
   ],
   "source": [
    "train_df['Family'] = train_df['SibSp'] + train_df['Parch']\n",
    "print train_df[['Family', 'Survived']].groupby(['Family'], as_index=False).agg(['mean', 'count'])"
   ]
  },
  {
   "cell_type": "code",
   "execution_count": 7,
   "metadata": {
    "collapsed": false
   },
   "outputs": [
    {
     "name": "stdout",
     "output_type": "stream",
     "text": [
      "         Survived      \n",
      "             mean count\n",
      "IsAlone                \n",
      "0        0.505650   354\n",
      "1        0.303538   537\n"
     ]
    }
   ],
   "source": [
    "train_df['IsAlone'] = 0\n",
    "train_df.loc[train_df['Family'] == 0, 'IsAlone'] = 1\n",
    "print train_df[['IsAlone', 'Survived']].groupby(['IsAlone'], as_index=False).agg(['mean', 'count'])"
   ]
  },
  {
   "cell_type": "code",
   "execution_count": 8,
   "metadata": {
    "collapsed": false
   },
   "outputs": [
    {
     "name": "stdout",
     "output_type": "stream",
     "text": [
      "          Survived      \n",
      "              mean count\n",
      "Embarked                \n",
      "C         0.553571   168\n",
      "Q         0.389610    77\n",
      "S         0.339009   646\n"
     ]
    }
   ],
   "source": [
    "train_df['Embarked'] = train_df['Embarked'].fillna('S')\n",
    "print train_df[['Embarked', 'Survived']].groupby(['Embarked'], as_index=False).agg(['mean', 'count'])"
   ]
  },
  {
   "cell_type": "code",
   "execution_count": 9,
   "metadata": {
    "collapsed": false
   },
   "outputs": [
    {
     "name": "stdout",
     "output_type": "stream",
     "text": [
      "                 Survived      \n",
      "                     mean count\n",
      "CategoricalFare                \n",
      "[0, 8.662]       0.198052   308\n",
      "(8.662, 26]      0.402778   288\n",
      "(26, 512.329]    0.559322   295\n",
      "                   Survived      \n",
      "                       mean count\n",
      "CategoricalFare                  \n",
      "[0, 7.775]         0.205128   156\n",
      "(7.775, 8.662]     0.190789   152\n",
      "(8.662, 14.454]    0.366906   139\n",
      "(14.454, 26]       0.436242   149\n",
      "(26, 52.369]       0.417808   146\n",
      "(52.369, 512.329]  0.697987   149\n"
     ]
    }
   ],
   "source": [
    "train_df['Fare'] = train_df['Fare'].fillna(train_df['Fare'].median())\n",
    "train_df['CategoricalFare'] = pd.qcut(train_df['Fare'], 3)\n",
    "print train_df[['CategoricalFare', 'Survived']].groupby(['CategoricalFare'], as_index=False).agg(['mean', 'count'])\n",
    "train_df['CategoricalFare'] = pd.qcut(train_df['Fare'], 6)\n",
    "print train_df[['CategoricalFare', 'Survived']].groupby(['CategoricalFare'], as_index=False).agg(['mean', 'count'])"
   ]
  },
  {
   "cell_type": "code",
   "execution_count": 10,
   "metadata": {
    "collapsed": false
   },
   "outputs": [
    {
     "name": "stdout",
     "output_type": "stream",
     "text": [
      "                  Survived      \n",
      "                      mean count\n",
      "CategoricalAge                  \n",
      "(0.34, 16.336]    0.550000   100\n",
      "(16.336, 32.252]  0.369942   346\n",
      "(32.252, 48.168]  0.404255   188\n",
      "(48.168, 64.084]  0.434783    69\n",
      "(64.084, 80]      0.090909    11\n"
     ]
    }
   ],
   "source": [
    "train_df['CategoricalAge'] = pd.cut(train_df['Age'], 5)\n",
    "print train_df[['CategoricalAge', 'Survived']].groupby(['CategoricalAge'], as_index=False).agg(['mean', 'count'])"
   ]
  },
  {
   "cell_type": "code",
   "execution_count": 11,
   "metadata": {
    "collapsed": false
   },
   "outputs": [
    {
     "name": "stdout",
     "output_type": "stream",
     "text": [
      "              Survived      \n",
      "                  mean count\n",
      "Title                       \n",
      "Capt          0.000000     1\n",
      "Col           0.500000     2\n",
      "Don           0.000000     1\n",
      "Dr            0.428571     7\n",
      "Jonkheer      0.000000     1\n",
      "Lady          1.000000     1\n",
      "Major         0.500000     2\n",
      "Master        0.575000    40\n",
      "Miss          0.697802   182\n",
      "Mlle          1.000000     2\n",
      "Mme           1.000000     1\n",
      "Mr            0.156673   517\n",
      "Mrs           0.792000   125\n",
      "Ms            1.000000     1\n",
      "Rev           0.000000     6\n",
      "Sir           1.000000     1\n",
      "the Countess  1.000000     1\n",
      "              Survived      \n",
      "                  mean count\n",
      "Title                       \n",
      "Master        0.575000    40\n",
      "Miss          0.702703   185\n",
      "Mr            0.156673   517\n",
      "Mrs           0.793651   126\n",
      "Others        0.318182    22\n",
      "the Countess  1.000000     1\n"
     ]
    }
   ],
   "source": [
    "pattern = re.compile(r'.*?,(.*?)\\.')\n",
    "def get_title(x):\n",
    "    result = pattern.search(x)\n",
    "    if result:\n",
    "        return result.group(1).strip()\n",
    "    else:\n",
    "        return ''\n",
    "train_df['Title'] = train_df['Name'].apply(get_title)\n",
    "print train_df[['Title', 'Survived']].groupby(['Title'], as_index=False).agg(['mean', 'count'])\n",
    "train_df['Title'] = train_df['Title'].replace('Mlle', 'Miss')\n",
    "train_df['Title'] = train_df['Title'].replace('Ms', 'Miss')\n",
    "train_df['Title'] = train_df['Title'].replace('Mme', 'Mrs')\n",
    "train_df['Title'] = train_df['Title'].replace(['Lady', 'Countess','Capt', 'Col','Don', 'Dr', 'Major', 'Rev', 'Sir', 'Jonkheer', 'Dona'], 'Others')\n",
    "print train_df[['Title', 'Survived']].groupby(['Title'], as_index=False).agg(['mean', 'count'])"
   ]
  },
  {
   "cell_type": "markdown",
   "metadata": {},
   "source": [
    "### Feature preprocessing"
   ]
  },
  {
   "cell_type": "code",
   "execution_count": 35,
   "metadata": {
    "collapsed": false
   },
   "outputs": [],
   "source": [
    "pattern = re.compile(r'.*?,(.*?)\\.')\n",
    "def get_title(x):\n",
    "    result = pattern.search(x)\n",
    "    if result:\n",
    "        return result.group(1).strip()\n",
    "    else:\n",
    "        return ''"
   ]
  },
  {
   "cell_type": "code",
   "execution_count": 36,
   "metadata": {
    "collapsed": false
   },
   "outputs": [],
   "source": [
    "def preprocess_age_title(data):\n",
    "    data['Title'] = data['Name'].map(get_title)\n",
    "    #'Master' \n",
    "    master_age_mean = data['Age'][(data['Title']=='Master')&(data['Age']>0)].mean()\n",
    "    data.loc[data[(data['Title']=='Master')&(data['Age'].isnull())].index, 'Age'] = master_age_mean\n",
    "    #'Mr' \n",
    "    mr_age_mean = data['Age'][(data['Title']=='Mr')&(data['Age']>0)].mean()\n",
    "    data.loc[data[(data['Title']=='Mr')&(data['Age'].isnull())].index, 'Age'] = mr_age_mean\n",
    "    #'Miss' or 'Ms'\n",
    "    miss_age_mean = data['Age'][(data['Title']=='Miss')&(data['Age']>0)].mean()\n",
    "    data.loc[data[(data['Title']=='Miss')&(data['Age'].isnull())].index, 'Age'] = miss_age_mean\n",
    "    #'Mrs' \n",
    "    mrs_age_mean = data['Age'][(data['Title']=='Mrs')&(data['Age']>0)].mean()\n",
    "    data.loc[data[(data['Title']=='Mrs')&(data['Age'].isnull())].index, 'Age'] = mrs_age_mean\n",
    "    #'Dr' \n",
    "    dr_age_mean = data['Age'][(data['Title']=='Dr')&(data['Age']>0)].mean()\n",
    "    data.loc[data[(data['Title']=='Dr')&(data['Age'].isnull())].index, 'Age'] = dr_age_mean\n",
    "    \n",
    "    data['Title'] = data['Title'].replace('Mlle', 'Miss')\n",
    "    data['Title'] = data['Title'].replace('Ms', 'Miss')\n",
    "    data['Title'] = data['Title'].replace('Mme', 'Mrs')\n",
    "    data['Title'] = data['Title'].replace(['Lady', 'Countess','Capt', 'Col','Don', 'Dr', 'Major', 'Rev', 'Sir', 'Jonkheer', 'Dona'], 'Others')\n",
    "    title_mapping = {'Mr': 1, 'Miss': 2, 'Mrs': 3, 'Master': 4, 'Others': 5}\n",
    "    data['Title'] = data['Title'].map(title_mapping)\n",
    "    data['Title'] = data['Title'].fillna(0)\n",
    "    data['Title'] = data['Title'].astype(int)\n",
    "    data['Age'].fillna(data['Age'].median(), inplace=True)\n",
    "    data['Age'] = data['Age'].astype(int)\n",
    "    return (data,['Title','Age'])"
   ]
  },
  {
   "cell_type": "code",
   "execution_count": 37,
   "metadata": {
    "collapsed": true
   },
   "outputs": [],
   "source": [
    "def preprocess_family(data):\n",
    "    data['Family'] = data['SibSp'] + data['Parch']\n",
    "    data['IsAlone'] = 0\n",
    "    data.loc[train_df['Family'] == 0, 'IsAlone'] = 1\n",
    "    return (data,['Family','IsAlone'])"
   ]
  },
  {
   "cell_type": "code",
   "execution_count": 38,
   "metadata": {
    "collapsed": true
   },
   "outputs": [],
   "source": [
    "def preprocess_embarked_sex(data):\n",
    "    max_value = data['Embarked'].value_counts().index[0]\n",
    "    data['Embarked'].fillna(max_value, inplace=True)\n",
    "    data['Embarked'] = data.Embarked.map({'S': 0, 'C': 1, 'Q': 2}).astype(int)\n",
    "    data['Sex'] = data['Sex'].map({'male': 1, 'female': 0}).astype(int)\n",
    "    return (data,['Embarked','Sex'])"
   ]
  },
  {
   "cell_type": "code",
   "execution_count": 39,
   "metadata": {
    "collapsed": true
   },
   "outputs": [],
   "source": [
    "def preprocess_fare(data):\n",
    "    data[\"Fare\"].fillna(data[\"Fare\"].median(), inplace=True)\n",
    "    return (data,['Fare'])"
   ]
  },
  {
   "cell_type": "code",
   "execution_count": 40,
   "metadata": {
    "collapsed": true
   },
   "outputs": [],
   "source": [
    "def preprocess_child(data):\n",
    "    data['Child'] = data[['Age']].apply(lambda x: x<16,axis=1).astype(int)\n",
    "    return (data,['Child'])"
   ]
  },
  {
   "cell_type": "code",
   "execution_count": 41,
   "metadata": {
    "collapsed": true
   },
   "outputs": [],
   "source": [
    "def onehot_encoding(data,column):\n",
    "    dummies  = pd.get_dummies(data[column],prefix=column).astype(int)\n",
    "    new_columns = dummies.columns.values\n",
    "    data = data.join(dummies)\n",
    "    return (data,new_columns)"
   ]
  },
  {
   "cell_type": "code",
   "execution_count": 138,
   "metadata": {
    "collapsed": false
   },
   "outputs": [],
   "source": [
    "#Init \n",
    "train_df = pd.read_csv(\"train.csv\")\n",
    "test_df    = pd.read_csv(\"test.csv\")\n",
    "train_cols = []\n",
    "train_cols_onehot=[]\n",
    "#Pclass\n",
    "train_cols.extend(['Pclass'])\n",
    "train_df,cols = onehot_encoding(train_df,'Pclass')\n",
    "test_df,_ = onehot_encoding(test_df,'Pclass')\n",
    "train_cols_onehot.extend(cols)\n",
    "#data SibSp and Parch\n",
    "train_cols.extend(['SibSp','Parch'])\n",
    "train_cols_onehot.extend(['SibSp','Parch'])\n",
    "#Title and Age\n",
    "train_df,cols = preprocess_age_title(train_df)\n",
    "test_df,_ = preprocess_age_title(test_df)\n",
    "train_cols.extend(cols)\n",
    "train_cols_onehot.extend(['Age'])\n",
    "train_df,cols = onehot_encoding(train_df,'Title')\n",
    "test_df,_ = onehot_encoding(test_df,'Title')\n",
    "train_cols_onehot.extend(cols)\n",
    "train_cols_onehot.remove('Title_0')\n",
    "#Family\n",
    "train_df,cols = preprocess_family(train_df)\n",
    "test_df,_ = preprocess_family(test_df)\n",
    "train_cols.extend(cols)\n",
    "train_cols_onehot.extend(cols)\n",
    "#Embarked and Sex\n",
    "train_df,cols = preprocess_embarked_sex(train_df)\n",
    "test_df,_ = preprocess_embarked_sex(test_df)\n",
    "train_cols.extend(cols)\n",
    "train_cols_onehot.extend(['Sex'])\n",
    "train_df,cols = onehot_encoding(train_df,'Embarked')\n",
    "test_df,_ = onehot_encoding(test_df,'Embarked')\n",
    "train_cols_onehot.extend(cols)\n",
    "#Fare\n",
    "train_df,cols = preprocess_fare(train_df)\n",
    "test_df,cols = preprocess_fare(test_df)\n",
    "train_cols.extend(cols)\n",
    "train_cols_onehot.extend(cols)\n",
    "#Child\n",
    "train_df,cols =preprocess_child(train_df)\n",
    "test_df,cols =preprocess_child(test_df)\n",
    "train_cols.extend(cols)\n",
    "train_cols_onehot.extend(cols)"
   ]
  },
  {
   "cell_type": "code",
   "execution_count": 139,
   "metadata": {
    "collapsed": false
   },
   "outputs": [
    {
     "name": "stdout",
     "output_type": "stream",
     "text": [
      "['Pclass', 'SibSp', 'Parch', 'Title', 'Age', 'Family', 'IsAlone', 'Embarked', 'Sex', 'Fare', 'Child']\n",
      "['Pclass_1', 'Pclass_2', 'Pclass_3', 'SibSp', 'Parch', 'Age', 'Title_1', 'Title_2', 'Title_3', 'Title_4', 'Title_5', 'Family', 'IsAlone', 'Sex', 'Embarked_0', 'Embarked_1', 'Embarked_2', 'Fare', 'Child']\n"
     ]
    }
   ],
   "source": [
    "print train_cols\n",
    "print train_cols_onehot\n"
   ]
  },
  {
   "cell_type": "code",
   "execution_count": 219,
   "metadata": {
    "collapsed": false
   },
   "outputs": [],
   "source": [
    "from sklearn.preprocessing import StandardScaler\n",
    "ss = StandardScaler()\n",
    "ss.partial_fit(train_df[['Fare','Age']])\n",
    "ss.partial_fit(test_df[['Fare','Age']])\n",
    "train_df[['Fare','Age']] = ss.transform(train_df[['Fare','Age']])\n",
    "test_df[['Fare','Age']] = ss.transform(test_df[['Fare','Age']])"
   ]
  },
  {
   "cell_type": "markdown",
   "metadata": {
    "collapsed": true
   },
   "source": [
    "### Single Classifier"
   ]
  },
  {
   "cell_type": "code",
   "execution_count": 221,
   "metadata": {
    "collapsed": true
   },
   "outputs": [],
   "source": [
    "from sklearn.neighbors import KNeighborsClassifier\n",
    "from sklearn.svm import SVC,LinearSVC\n",
    "from sklearn.tree import DecisionTreeClassifier\n",
    "from sklearn.ensemble import RandomForestClassifier, GradientBoostingClassifier\n",
    "from sklearn.naive_bayes import GaussianNB\n",
    "from sklearn.linear_model import LogisticRegression"
   ]
  },
  {
   "cell_type": "code",
   "execution_count": 222,
   "metadata": {
    "collapsed": false
   },
   "outputs": [
    {
     "name": "stdout",
     "output_type": "stream",
     "text": [
      "Fitting 5 folds for each of 10 candidates, totalling 50 fits\n"
     ]
    },
    {
     "name": "stderr",
     "output_type": "stream",
     "text": [
      "[Parallel(n_jobs=-1)]: Done  34 tasks      | elapsed:    3.7s\n"
     ]
    },
    {
     "name": "stdout",
     "output_type": "stream",
     "text": [
      "0.826038159371\n",
      "0.464158883361\n"
     ]
    },
    {
     "name": "stderr",
     "output_type": "stream",
     "text": [
      "[Parallel(n_jobs=-1)]: Done  50 out of  50 | elapsed:    3.9s finished\n"
     ]
    }
   ],
   "source": [
    "from sklearn.model_selection import GridSearchCV, cross_val_score\n",
    "parameters = {'C' : np.logspace(-2, 1, 10)}\n",
    "est = LinearSVC()\n",
    "clf = GridSearchCV(estimator=est, param_grid=parameters,cv=5,n_jobs=-1,verbose=1)\n",
    "clf.fit(train_df[train_cols_onehot], train_df['Survived'])        \n",
    "print clf.best_score_     \n",
    "print clf.best_estimator_.C\n",
    "best_result = {'SVC':clf.best_score_}\n",
    "svc_C =  clf.best_estimator_.C"
   ]
  },
  {
   "cell_type": "code",
   "execution_count": 227,
   "metadata": {
    "collapsed": false
   },
   "outputs": [
    {
     "name": "stdout",
     "output_type": "stream",
     "text": [
      "Fitting 5 folds for each of 30 candidates, totalling 150 fits\n"
     ]
    },
    {
     "name": "stderr",
     "output_type": "stream",
     "text": [
      "[Parallel(n_jobs=-1)]: Done  34 tasks      | elapsed:    3.4s\n"
     ]
    },
    {
     "name": "stdout",
     "output_type": "stream",
     "text": [
      "0.835016835017\n",
      "7\n",
      "0.8\n"
     ]
    },
    {
     "name": "stderr",
     "output_type": "stream",
     "text": [
      "[Parallel(n_jobs=-1)]: Done 150 out of 150 | elapsed:    3.8s finished\n"
     ]
    }
   ],
   "source": [
    "parameters = {'max_depth':[4,5,6,7,8],'max_features':[0.5,0.6,0.7,0.8,0.9,1],'class_weight':[{1:0.383838,0:0.616162}]}\n",
    "est = DecisionTreeClassifier()\n",
    "clf = GridSearchCV(estimator=est, param_grid=parameters,cv=5,n_jobs=-1,verbose=1)\n",
    "clf.fit(train_df[train_cols], train_df['Survived'])        \n",
    "print clf.best_score_             \n",
    "print clf.best_estimator_.max_depth   \n",
    "print clf.best_estimator_.max_features   \n",
    "best_result = {'DecisionTreeClassifier':clf.best_score_}\n",
    "dtc_max_depth =  clf.best_estimator_.max_depth "
   ]
  },
  {
   "cell_type": "code",
   "execution_count": 211,
   "metadata": {
    "collapsed": false
   },
   "outputs": [
    {
     "name": "stdout",
     "output_type": "stream",
     "text": [
      "Fitting 5 folds for each of 100 candidates, totalling 500 fits\n"
     ]
    },
    {
     "name": "stderr",
     "output_type": "stream",
     "text": [
      "[Parallel(n_jobs=-1)]: Done  34 tasks      | elapsed:    4.0s\n",
      "[Parallel(n_jobs=-1)]: Done 184 tasks      | elapsed:   12.3s\n",
      "[Parallel(n_jobs=-1)]: Done 434 tasks      | elapsed:   25.3s\n",
      "[Parallel(n_jobs=-1)]: Done 500 out of 500 | elapsed:   29.6s finished\n"
     ]
    },
    {
     "name": "stdout",
     "output_type": "stream",
     "text": [
      "0.843995510662\n",
      "3\n",
      "150\n",
      "0.1\n"
     ]
    }
   ],
   "source": [
    "parameters = {'max_depth':[3,4,5,6],'n_estimators':[75,100,150,200,300],'learning_rate':[0.01,0.05,0.08,0.1,0.2]}\n",
    "est = GradientBoostingClassifier()\n",
    "clf = GridSearchCV(estimator=est, param_grid=parameters,cv=5,n_jobs=-1,verbose=1)\n",
    "clf.fit(train_df[train_cols], train_df['Survived'])        \n",
    "print clf.best_score_ \n",
    "print clf.best_estimator_.max_depth\n",
    "print clf.best_estimator_.n_estimators\n",
    "print clf.best_estimator_.learning_rate\n",
    "best_result = {'GradientBoostingClassifier':clf.best_score_}\n",
    "gbc_max_depth =  clf.best_estimator_.max_depth \n",
    "gbc_n_estimators = clf.best_estimator_.n_estimators\n",
    "gbc_learning_rate = clf.best_estimator_.learning_rate"
   ]
  },
  {
   "cell_type": "code",
   "execution_count": 243,
   "metadata": {
    "collapsed": false
   },
   "outputs": [
    {
     "name": "stdout",
     "output_type": "stream",
     "text": [
      "Fitting 5 folds for each of 100 candidates, totalling 500 fits\n"
     ]
    },
    {
     "name": "stderr",
     "output_type": "stream",
     "text": [
      "[Parallel(n_jobs=-1)]: Done  34 tasks      | elapsed:    7.6s\n",
      "[Parallel(n_jobs=-1)]: Done 184 tasks      | elapsed:   32.9s\n",
      "[Parallel(n_jobs=-1)]: Done 434 tasks      | elapsed:  1.3min\n",
      "[Parallel(n_jobs=-1)]: Done 500 out of 500 | elapsed:  1.5min finished\n"
     ]
    },
    {
     "name": "stdout",
     "output_type": "stream",
     "text": [
      "0.841750841751\n",
      "8\n",
      "200\n",
      "1\n"
     ]
    }
   ],
   "source": [
    "parameters = {'max_depth':[5,6,7,8,9],'n_estimators':[50,100,150,200,300],'max_features':[0.5,0.6,0.8,0.9],'class_weight':[{1:0.383838,0:0.616162}]}\n",
    "est = RandomForestClassifier()\n",
    "clf = GridSearchCV(estimator=est, param_grid=parameters,cv=5,n_jobs=-1,verbose=1)\n",
    "clf.fit(train_df[train_cols], train_df['Survived'])        \n",
    "print clf.best_score_ \n",
    "print clf.best_estimator_.max_depth\n",
    "print clf.best_estimator_.n_estimators\n",
    "print clf.best_estimator_.max_features\n",
    "best_result = {'RandomForestClassifier':clf.best_score_}\n",
    "rfc_max_depth =  clf.best_estimator_.max_depth \n",
    "rfc_n_estimators=clf.best_estimator_.n_estimators"
   ]
  },
  {
   "cell_type": "code",
   "execution_count": 182,
   "metadata": {
    "collapsed": false,
    "scrolled": true
   },
   "outputs": [
    {
     "name": "stdout",
     "output_type": "stream",
     "text": [
      "Fitting 5 folds for each of 10 candidates, totalling 50 fits\n",
      "0.826038159371\n",
      "5.99484250319\n"
     ]
    },
    {
     "name": "stderr",
     "output_type": "stream",
     "text": [
      "[Parallel(n_jobs=-1)]: Done  34 tasks      | elapsed:    3.5s\n",
      "[Parallel(n_jobs=-1)]: Done  50 out of  50 | elapsed:    3.6s finished\n"
     ]
    }
   ],
   "source": [
    "parameters = {'C' : np.logspace(-1, 1, 10)}\n",
    "est = LogisticRegression()\n",
    "clf = GridSearchCV(estimator=est, param_grid=parameters,cv=5,n_jobs=-1,verbose=1)\n",
    "clf.fit(train_df[train_cols_onehot], train_df['Survived'])        \n",
    "print clf.best_score_     \n",
    "print clf.best_estimator_.C\n",
    "best_result = {'LogisticRegression':clf.best_score_}\n",
    "lr_C =  clf.best_estimator_.C"
   ]
  },
  {
   "cell_type": "code",
   "execution_count": 223,
   "metadata": {
    "collapsed": false
   },
   "outputs": [
    {
     "name": "stdout",
     "output_type": "stream",
     "text": [
      "0.801416702751\n"
     ]
    }
   ],
   "source": [
    "clf = GaussianNB()\n",
    "clf.fit(train_df[train_cols_onehot], train_df['Survived'])    \n",
    "re = cross_val_score(clf,train_df[train_cols_onehot], train_df['Survived'],cv=5).sum()/5\n",
    "print re\n",
    "best_result = {'GaussianNB':re}"
   ]
  },
  {
   "cell_type": "code",
   "execution_count": 184,
   "metadata": {
    "collapsed": false
   },
   "outputs": [
    {
     "name": "stdout",
     "output_type": "stream",
     "text": [
      "Fitting 5 folds for each of 4 candidates, totalling 20 fits\n",
      "0.734006734007\n",
      "3\n"
     ]
    },
    {
     "name": "stderr",
     "output_type": "stream",
     "text": [
      "[Parallel(n_jobs=-1)]: Done  20 out of  20 | elapsed:    3.0s finished\n"
     ]
    }
   ],
   "source": [
    "parameters = {'n_neighbors' :[2,3,4,5]}\n",
    "est = KNeighborsClassifier()\n",
    "clf = GridSearchCV(estimator=est, param_grid=parameters,n_jobs=-1,cv=5,verbose=1)\n",
    "clf.fit(train_df[train_cols_onehot], train_df['Survived'])        \n",
    "print clf.best_score_     \n",
    "print clf.best_estimator_.n_neighbors\n",
    "best_result = {'KNeighborsClassifier':clf.best_score_}\n",
    "KNC_C =  clf.best_estimator_.n_neighbors"
   ]
  },
  {
   "cell_type": "code",
   "execution_count": 282,
   "metadata": {
    "collapsed": false
   },
   "outputs": [
    {
     "name": "stdout",
     "output_type": "stream",
     "text": [
      "{'KNN': array([ 0.79888268,  0.75977654,  0.8258427 ,  0.79213483,  0.80225989]), 'LinearSVC': array([ 0.83798883,  0.82122905,  0.79775281,  0.78651685,  0.8700565 ]), 'GBT': array([ 0.84916201,  0.83240223,  0.87078652,  0.83707865,  0.83050847]), 'GNB': array([ 0.77653631,  0.81005587,  0.80898876,  0.76404494,  0.84745763]), 'RF': array([ 0.82122905,  0.81564246,  0.87640449,  0.80898876,  0.83050847]), 'LR': array([ 0.82681564,  0.81564246,  0.80337079,  0.80898876,  0.87570621]), 'DT': array([ 0.80446927,  0.82122905,  0.84269663,  0.78651685,  0.85310734])}\n"
     ]
    },
    {
     "data": {
      "image/png": "[encoded data removed]",
      "text/plain": [
       "<matplotlib.figure.Figure at 0x10d49748>"
      ]
     },
     "metadata": {},
     "output_type": "display_data"
    }
   ],
   "source": [
    "import matplotlib.pyplot as plt\n",
    "clf_test = [('LinearSVC',LinearSVC(C=0.0464158883361)),\n",
    "        ('GNB',GaussianNB()),\n",
    "        ('LR',LogisticRegression(C=5.99484250319)),\n",
    "        ('DT',DecisionTreeClassifier(max_depth=8,max_features=0.9,class_weight={1:0.383838,0:0.616162})),\n",
    "        ('GBT',GradientBoostingClassifier(max_depth=3,n_estimators=150,learning_rate=0.1)),\n",
    "        ('RF',RandomForestClassifier(max_depth=8,n_estimators=300,max_features=0.8,class_weight={1:0.383838,0:0.616162})),\n",
    "        ('KNN',KNeighborsClassifier(n_neighbors=3))\n",
    "]\n",
    "result = {}\n",
    "for i,(name,clf) in enumerate(clf_test):\n",
    "    if i<3:\n",
    "        tmp = cross_val_score(clf,train_df[train_cols_onehot], train_df['Survived'],cv=5)\n",
    "    else:\n",
    "        tmp = cross_val_score(clf,train_df[train_cols], train_df['Survived'],cv=5)\n",
    "    result[name] = tmp\n",
    "# for i,(name,clf) in enumerate(clf_test):\n",
    "#     if i<3:\n",
    "#         tmp = cross_val_score(clf,train_df[train_cols_onehot], train_df['Survived'],cv=5)\n",
    "#     else:\n",
    "#         tmp = cross_val_score(clf,train_df[train_cols], train_df['Survived'],cv=5)\n",
    "#     result[name] = np.append(result[name],tmp)\n",
    "print result\n",
    "df_results = pd.DataFrame(result)\n",
    "df_results[df_results.median().sort_values(ascending=True).index].boxplot();"
   ]
  },
  {
   "cell_type": "code",
   "execution_count": 275,
   "metadata": {
    "collapsed": false
   },
   "outputs": [
    {
     "data": {
      "image/png": "[encoded data removed]",
      "text/plain": [
       "<matplotlib.figure.Figure at 0xcd0c128>"
      ]
     },
     "metadata": {},
     "output_type": "display_data"
    }
   ],
   "source": [
    "clf_test = [('LinearSVC',LinearSVC(C=0.0464158883361)),\n",
    "        ('GNB',GaussianNB()),\n",
    "        ('LR',LogisticRegression(C=5.99484250319)),\n",
    "        ('DT',DecisionTreeClassifier(max_depth=8,max_features=0.9,class_weight={1:0.383838,0:0.616162})),\n",
    "        ('GBT',GradientBoostingClassifier(max_depth=3,n_estimators=150,learning_rate=0.1)),\n",
    "        ('RF',RandomForestClassifier(max_depth=8,n_estimators=200,max_features=0.8,class_weight={1:0.383838,0:0.616162})),\n",
    "        ('KNN',KNeighborsClassifier(n_neighbors=3))\n",
    "]\n",
    "result = {}\n",
    "for i,(name,clf) in enumerate(clf_test):\n",
    "    if i<3:\n",
    "        tmp = cross_val_score(clf,train_df[train_cols], train_df['Survived'],cv=5)\n",
    "    else:\n",
    "        tmp = cross_val_score(clf,train_df[train_cols], train_df['Survived'],cv=5)\n",
    "    result[name] = tmp\n",
    "# for i,(name,clf) in enumerate(clf_test):\n",
    "#     if i<3:\n",
    "#         tmp = cross_val_score(clf,train_df[train_cols_onehot], train_df['Survived'],cv=5)\n",
    "#     else:\n",
    "#         tmp = cross_val_score(clf,train_df[train_cols], train_df['Survived'],cv=5)\n",
    "#     result[name] = np.append(result[name],tmp)\n",
    "print result\n",
    "df_results = pd.DataFrame(result)\n",
    "df_results[df_results.median().sort_values(ascending=True).index].boxplot();"
   ]
  },
  {
   "cell_type": "code",
   "execution_count": 290,
   "metadata": {
    "collapsed": false
   },
   "outputs": [
    {
     "name": "stdout",
     "output_type": "stream",
     "text": [
      "{'KNN': array([ 0.79888268,  0.75418994,  0.82022472,  0.79213483,  0.81355932]), 'LinearSVC': array([ 0.84357542,  0.82122905,  0.79775281,  0.79213483,  0.87570621]), 'GBT': array([ 0.83798883,  0.82122905,  0.86516854,  0.82022472,  0.83050847]), 'GNB': array([ 0.77653631,  0.81005587,  0.80898876,  0.76404494,  0.84745763]), 'RF': array([ 0.81564246,  0.78212291,  0.8258427 ,  0.78651685,  0.83050847]), 'LR': array([ 0.83240223,  0.81564246,  0.80337079,  0.79775281,  0.86440678]), 'DT': array([ 0.77094972,  0.75418994,  0.80898876,  0.73595506,  0.73446328])}\n"
     ]
    },
    {
     "data": {
      "image/png": "[encoded data removed]",
      "text/plain": [
       "<matplotlib.figure.Figure at 0x109b61d0>"
      ]
     },
     "metadata": {},
     "output_type": "display_data"
    }
   ],
   "source": [
    "clf_test = [('LinearSVC',LinearSVC()),\n",
    "        ('GNB',GaussianNB()),\n",
    "        ('LR',LogisticRegression()),\n",
    "        ('DT',DecisionTreeClassifier()),\n",
    "        ('GBT',GradientBoostingClassifier()),\n",
    "        ('RF',RandomForestClassifier()),\n",
    "        ('KNN',KNeighborsClassifier())\n",
    "]\n",
    "result = {}\n",
    "origin_cols = ['Pclass','Sex','Age','SibSp','Parch','Fare','Embarked']\n",
    "for i,(name,clf) in enumerate(clf_test):\n",
    "    if i<3:\n",
    "        tmp = cross_val_score(clf,train_df[train_cols_onehot], train_df['Survived'],cv=5)\n",
    "    else:\n",
    "        tmp = cross_val_score(clf,train_df[train_cols], train_df['Survived'],cv=5)\n",
    "    result[name] = tmp\n",
    "# for i,(name,clf) in enumerate(clf_test):\n",
    "#     if i<3:\n",
    "#         tmp = cross_val_score(clf,train_df[train_cols_onehot], train_df['Survived'],cv=5)\n",
    "#     else:\n",
    "#         tmp = cross_val_score(clf,train_df[train_cols], train_df['Survived'],cv=5)\n",
    "#     result[name] = np.append(result[name],tmp)\n",
    "print result\n",
    "df_results = pd.DataFrame(result)\n",
    "df_results[df_results.median().sort_values(ascending=True).index].boxplot();"
   ]
  },
  {
   "cell_type": "code",
   "execution_count": 291,
   "metadata": {
    "collapsed": false
   },
   "outputs": [
    {
     "name": "stdout",
     "output_type": "stream",
     "text": [
      "{'KNN': array([ 0.78212291,  0.75977654,  0.81460674,  0.80898876,  0.79096045]), 'LinearSVC': array([ 0.78212291,  0.78212291,  0.78089888,  0.76966292,  0.82485876]), 'GBT': array([ 0.81564246,  0.81005587,  0.83146067,  0.82022472,  0.85310734]), 'GNB': array([ 0.76536313,  0.79329609,  0.79775281,  0.78651685,  0.79661017]), 'RF': array([ 0.75977654,  0.80446927,  0.83146067,  0.78651685,  0.82485876]), 'LR': array([ 0.79329609,  0.80446927,  0.79775281,  0.76966292,  0.83050847]), 'DT': array([ 0.73743017,  0.75977654,  0.80337079,  0.73595506,  0.77966102])}\n"
     ]
    },
    {
     "data": {
      "image/png": "[encoded data removed]",
      "text/plain": [
       "<matplotlib.figure.Figure at 0xf31d320>"
      ]
     },
     "metadata": {},
     "output_type": "display_data"
    }
   ],
   "source": [
    "clf_test = [('LinearSVC',LinearSVC()),\n",
    "        ('GNB',GaussianNB()),\n",
    "        ('LR',LogisticRegression()),\n",
    "        ('DT',DecisionTreeClassifier()),\n",
    "        ('GBT',GradientBoostingClassifier()),\n",
    "        ('RF',RandomForestClassifier()),\n",
    "        ('KNN',KNeighborsClassifier())\n",
    "]\n",
    "result = {}\n",
    "origin_cols = ['Pclass','Sex','Age','SibSp','Parch','Fare','Embarked']\n",
    "for i,(name,clf) in enumerate(clf_test):\n",
    "    if i<3:\n",
    "        tmp = cross_val_score(clf,train_df[origin_cols], train_df['Survived'],cv=5)\n",
    "    else:\n",
    "        tmp = cross_val_score(clf,train_df[origin_cols], train_df['Survived'],cv=5)\n",
    "    result[name] = tmp\n",
    "# for i,(name,clf) in enumerate(clf_test):\n",
    "#     if i<3:\n",
    "#         tmp = cross_val_score(clf,train_df[train_cols_onehot], train_df['Survived'],cv=5)\n",
    "#     else:\n",
    "#         tmp = cross_val_score(clf,train_df[train_cols], train_df['Survived'],cv=5)\n",
    "#     result[name] = np.append(result[name],tmp)\n",
    "print result\n",
    "df_results = pd.DataFrame(result)\n",
    "df_results[df_results.median().sort_values(ascending=True).index].boxplot();"
   ]
  },
  {
   "cell_type": "markdown",
   "metadata": {},
   "source": [
    "### Blending"
   ]
  },
  {
   "cell_type": "code",
   "execution_count": 224,
   "metadata": {
    "collapsed": false
   },
   "outputs": [
    {
     "name": "stdout",
     "output_type": "stream",
     "text": [
      "0 LinearSVC(C=0.0464158883361, class_weight=None, dual=True, fit_intercept=True,\n",
      "     intercept_scaling=1, loss='squared_hinge', max_iter=1000,\n",
      "     multi_class='ovr', penalty='l2', random_state=None, tol=0.0001,\n",
      "     verbose=0)\n",
      "Fold 0\n",
      "Fold 1\n",
      "Fold 2\n",
      "Fold 3\n",
      "Fold 4\n",
      "1 GaussianNB(priors=None)\n",
      "Fold 0\n",
      "Fold 1\n",
      "Fold 2\n",
      "Fold 3\n",
      "Fold 4\n",
      "2 LogisticRegression(C=5.99484250319, class_weight=None, dual=False,\n",
      "          fit_intercept=True, intercept_scaling=1, max_iter=100,\n",
      "          multi_class='ovr', n_jobs=1, penalty='l2', random_state=None,\n",
      "          solver='liblinear', tol=0.0001, verbose=0, warm_start=False)\n",
      "Fold 0\n",
      "Fold 1\n",
      "Fold 2\n",
      "Fold 3\n",
      "Fold 4\n",
      "3 DecisionTreeClassifier(class_weight={0: 0.616162, 1: 0.383838},\n",
      "            criterion='gini', max_depth=8, max_features=0.9,\n",
      "            max_leaf_nodes=None, min_impurity_split=1e-07,\n",
      "            min_samples_leaf=1, min_samples_split=2,\n",
      "            min_weight_fraction_leaf=0.0, presort=False, random_state=None,\n",
      "            splitter='best')\n",
      "Fold 0\n",
      "Fold 1\n",
      "Fold 2\n",
      "Fold 3\n",
      "Fold 4\n",
      "4 GradientBoostingClassifier(criterion='friedman_mse', init=None,\n",
      "              learning_rate=0.1, loss='deviance', max_depth=3,\n",
      "              max_features=None, max_leaf_nodes=None,\n",
      "              min_impurity_split=1e-07, min_samples_leaf=1,\n",
      "              min_samples_split=2, min_weight_fraction_leaf=0.0,\n",
      "              n_estimators=150, presort='auto', random_state=None,\n",
      "              subsample=1.0, verbose=0, warm_start=False)\n",
      "Fold 0\n",
      "Fold 1\n",
      "Fold 2\n",
      "Fold 3\n",
      "Fold 4\n",
      "5 RandomForestClassifier(bootstrap=True,\n",
      "            class_weight={0: 0.616162, 1: 0.383838}, criterion='gini',\n",
      "            max_depth=8, max_features='auto', max_leaf_nodes=None,\n",
      "            min_impurity_split=1e-07, min_samples_leaf=5,\n",
      "            min_samples_split=2, min_weight_fraction_leaf=0.0,\n",
      "            n_estimators=100, n_jobs=1, oob_score=False, random_state=None,\n",
      "            verbose=0, warm_start=False)\n",
      "Fold 0\n",
      "Fold 1\n",
      "Fold 2\n",
      "Fold 3\n",
      "Fold 4\n"
     ]
    }
   ],
   "source": [
    "from sklearn.model_selection import StratifiedKFold\n",
    "skf= StratifiedKFold(n_splits= 5)\n",
    "kf_index = list(skf.split(train_df[train_cols],train_df['Survived']))\n",
    "clfs = [LinearSVC(C=0.0464158883361),\n",
    "        GaussianNB(),\n",
    "        LogisticRegression(C=5.99484250319),\n",
    "        DecisionTreeClassifier(max_depth=8,max_features=0.9,class_weight={1:0.383838,0:0.616162}),\n",
    "        GradientBoostingClassifier(max_depth=3,n_estimators=150,learning_rate=0.1),\n",
    "        RandomForestClassifier(max_depth=8,n_estimators=300,max_features=0.8,class_weight={1:0.383838,0:0.616162})\n",
    "]\n",
    "dataset_blend_train = np.zeros((train_df.shape[0], len(clfs)))\n",
    "dataset_blend_test = np.zeros((test_df.shape[0], len(clfs)))\n",
    "for j, clf in enumerate(clfs):\n",
    "        print j, clf\n",
    "        dataset_blend_test_j = np.zeros((test_df.shape[0], len(kf_index)))\n",
    "        for i, (train, test) in enumerate(kf_index):\n",
    "            print \"Fold\", i\n",
    "            if i<3:\n",
    "                X_train = train_df[train_cols_onehot].iloc[train]\n",
    "                y_train = train_df['Survived'].iloc[train]\n",
    "                X_test = train_df[train_cols_onehot].iloc[test]\n",
    "                y_test = train_df['Survived'].iloc[test]\n",
    "                testv = test_df[train_cols_onehot]\n",
    "            else:\n",
    "                X_train = train_df[train_cols].iloc[train]\n",
    "                y_train = train_df['Survived'].iloc[train]\n",
    "                X_test = train_df[train_cols].iloc[test]\n",
    "                y_test = train_df['Survived'].iloc[test]\n",
    "                testv = test_df[train_cols]\n",
    "            clf.fit(X_train, y_train)\n",
    "            y_submission = clf.predict(X_test)\n",
    "            dataset_blend_train[test, j] = y_submission\n",
    "            dataset_blend_test_j[:, i] = clf.predict(testv)\n",
    "        dataset_blend_test[:, j] = dataset_blend_test_j.mean(1)\n"
   ]
  },
  {
   "cell_type": "code",
   "execution_count": 225,
   "metadata": {
    "collapsed": false
   },
   "outputs": [],
   "source": [
    "clf = LogisticRegression()\n",
    "clf.fit(dataset_blend_train, train_df['Survived'])\n",
    "y_prob = clf.predict_proba(dataset_blend_test)\n",
    "y_submission = clf.predict(dataset_blend_test)"
   ]
  },
  {
   "cell_type": "code",
   "execution_count": 297,
   "metadata": {
    "collapsed": false
   },
   "outputs": [],
   "source": [
    "from sklearn.base import BaseEstimator, ClassifierMixin\n",
    "class IntegrateClassifier(BaseEstimator, ClassifierMixin):\n",
    "    def __init__(self,clfs,col1,col2):\n",
    "        self.clfs = clfs\n",
    "        self.col1 = col1\n",
    "        self.col2 = col2\n",
    "    def fit(self, X, y): \n",
    "        databladetrain= np.zeros((X.shape[0], len(clfs)))\n",
    "        for i,clf in enumerate(self.clfs):\n",
    "            if i<3:\n",
    "                train = X[self.col2]\n",
    "            else:\n",
    "                train = X[self.col1]\n",
    "            clf.fit(train,y)\n",
    "            databladetrain[:,i] = clf.predict(train)\n",
    "        self.fin = LogisticRegression()\n",
    "        self.fin.fit(databladetrain,y)\n",
    "        return self\n",
    "\n",
    "    def predict(self, X):\n",
    "        databladetest= np.zeros((X.shape[0], len(clfs)))\n",
    "        for i,clf in enumerate(self.clfs):\n",
    "            if i<3:\n",
    "                test = X[self.col2]\n",
    "            else:\n",
    "                test = X[self.col1]\n",
    "            databladetest[:,i] = clf.predict(test)\n",
    "        \n",
    "        return self.fin.predict(databladetest)"
   ]
  },
  {
   "cell_type": "code",
   "execution_count": 300,
   "metadata": {
    "collapsed": false
   },
   "outputs": [
    {
     "name": "stdout",
     "output_type": "stream",
     "text": [
      "{'KNN': array([ 0.73184358,  0.75977654,  0.86516854,  0.79775281,  0.80225989]), 'LinearSVC': array([ 0.83798883,  0.82122905,  0.79775281,  0.78651685,  0.8700565 ]), 'GBT': array([ 0.84916201,  0.83240223,  0.87078652,  0.83707865,  0.83050847]), 'GNB': array([ 0.77653631,  0.81005587,  0.80898876,  0.76404494,  0.84745763]), 'RF': array([ 0.83240223,  0.81564246,  0.87078652,  0.80337079,  0.84180791]), 'LR': array([ 0.82681564,  0.81564246,  0.80337079,  0.80898876,  0.87570621]), 'ours': array([ 0.83798883,  0.82122905,  0.88202247,  0.83146067,  0.84745763]), 'DT': array([ 0.75977654,  0.81005587,  0.85393258,  0.76404494,  0.84180791])}\n"
     ]
    },
    {
     "data": {
      "image/png": "[encoded data removed]",
      "text/plain": [
       "<matplotlib.figure.Figure at 0xf2ef668>"
      ]
     },
     "metadata": {},
     "output_type": "display_data"
    }
   ],
   "source": [
    "clf_int = [LinearSVC(C=0.0464158883361),\n",
    "        GaussianNB(),\n",
    "        LogisticRegression(C=5.99484250319),\n",
    "        DecisionTreeClassifier(max_depth=8,max_features=0.9,class_weight={1:0.383838,0:0.616162}),\n",
    "        GradientBoostingClassifier(max_depth=3,n_estimators=150,learning_rate=0.1),\n",
    "        RandomForestClassifier(max_depth=8,n_estimators=300,max_features=0.8,class_weight={1:0.383838,0:0.616162})\n",
    "]\n",
    "clf_test = [('LinearSVC',LinearSVC(C=0.0464158883361)),\n",
    "        ('GNB',GaussianNB()),\n",
    "        ('LR',LogisticRegression(C=5.99484250319)),\n",
    "        ('DT',DecisionTreeClassifier(max_depth=8,max_features=0.9,class_weight={1:0.383838,0:0.616162})),\n",
    "        ('GBT',GradientBoostingClassifier(max_depth=3,n_estimators=150,learning_rate=0.1)),\n",
    "        ('RF',RandomForestClassifier(max_depth=8,n_estimators=300,max_features=0.8,class_weight={1:0.383838,0:0.616162})),\n",
    "        ('KNN',KNeighborsClassifier(n_neighbors=3)),\n",
    "        ('ours',IntegrateClassifier(clf_int,train_cols,train_cols_onehot))\n",
    "]\n",
    "result = {}\n",
    "all_cols = list(set(train_cols+train_cols_onehot))\n",
    "for i,(name,clf) in enumerate(clf_test):\n",
    "    if i<3:\n",
    "        tmp = cross_val_score(clf,train_df[train_cols_onehot], train_df['Survived'],cv=5)\n",
    "    elif i<6:\n",
    "        tmp = cross_val_score(clf,train_df[train_cols], train_df['Survived'],cv=5)\n",
    "    else:\n",
    "        tmp = cross_val_score(clf,train_df[all_cols], train_df['Survived'],cv=5)\n",
    "    result[name] = tmp\n",
    "# for i,(name,clf) in enumerate(clf_test):\n",
    "#     if i<3:\n",
    "#         tmp = cross_val_score(clf,train_df[train_cols_onehot], train_df['Survived'],cv=5)\n",
    "#     else:\n",
    "#         tmp = cross_val_score(clf,train_df[train_cols], train_df['Survived'],cv=5)\n",
    "#     result[name] = np.append(result[name],tmp)\n",
    "print result\n",
    "df_results = pd.DataFrame(result)\n",
    "df_results[df_results.median().sort_values(ascending=True).index].boxplot();"
   ]
  },
  {
   "cell_type": "code",
   "execution_count": 226,
   "metadata": {
    "collapsed": false
   },
   "outputs": [],
   "source": [
    "combination = pd.DataFrame({\n",
    "        \"PassengerId\": test_df[\"PassengerId\"],\n",
    "        \"Survived\": y_submission\n",
    "    })\n",
    "combination.to_csv(\"titanic_predict_combine.csv\", index=False)"
   ]
  },
  {
   "cell_type": "code",
   "execution_count": null,
   "metadata": {
    "collapsed": true
   },
   "outputs": [],
   "source": []
  }
 ],
 "metadata": {
  "anaconda-cloud": {},
  "kernelspec": {
   "display_name": "Python [default]",
   "language": "python",
   "name": "python2"
  },
  "language_info": {
   "codemirror_mode": {
    "name": "ipython",
    "version": 2
   },
   "file_extension": ".py",
   "mimetype": "text/x-python",
   "name": "python",
   "nbconvert_exporter": "python",
   "pygments_lexer": "ipython2",
   "version": "2.7.12"
  }
 },
 "nbformat": 4,
 "nbformat_minor": 1
}
